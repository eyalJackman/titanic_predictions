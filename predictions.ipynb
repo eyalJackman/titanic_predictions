{
 "cells": [
  {
   "cell_type": "markdown",
   "metadata": {},
   "source": [
    "### Predicting survival on the Titanic\n",
    "- Uses the Kaggle dataset found [here](https://www.kaggle.com/competitions/titanic/)"
   ]
  },
  {
   "cell_type": "markdown",
   "metadata": {},
   "source": [
    "### Imports"
   ]
  },
  {
   "cell_type": "code",
   "execution_count": 38,
   "metadata": {},
   "outputs": [],
   "source": [
    "import torch\n",
    "from torch import nn\n",
    "from torch.utils.data import DataLoader\n",
    "import pandas as pd\n",
    "import numpy as np\n",
    "import matplotlib.pyplot as plt\n",
    "import re\n",
    "from sklearn.model_selection import train_test_split, GridSearchCV\n",
    "from sklearn.metrics import accuracy_score, confusion_matrix\n",
    "import seaborn as sns\n",
    "import matplotlib.pyplot as plt"
   ]
  },
  {
   "cell_type": "code",
   "execution_count": null,
   "metadata": {},
   "outputs": [],
   "source": []
  },
  {
   "cell_type": "markdown",
   "metadata": {},
   "source": [
    "## Data Pre-Processing"
   ]
  },
  {
   "cell_type": "code",
   "execution_count": 53,
   "metadata": {},
   "outputs": [],
   "source": [
    "train_data = pd.read_csv(\"train.csv\")\n",
    "test_data = pd.read_csv(\"test.csv\")\n",
    "\n",
    "\n",
    "drop_cols = [\"PassengerId\", \"Name\", \"Ticket\", \"Cabin\" ]\n",
    "\n",
    "# regex.split(r\"\\d\", train_data[\"Ticket\"])\n",
    "# train_data[\"Ticket\"] = train_data[\"Ticket\"].apply(lambda row: re.split(r\"\\D\", row)[-1])\n",
    "# train_data[\"Ticket\"] = pd.to_numeric(train_data[\"Ticket\"], errors='coerce').fillna(0).astype(int)\n",
    "# ticket_data = train_data[\"Ticket\"]\n",
    "# Normalize the data\n",
    "\n",
    "\n",
    "# normalized_data = (train_data[\"Ticket\"] - train_data[\"Ticket\"].min()) / (train_data[\"Ticket\"].max() - train_data[\"Ticket\"].min())\n",
    "# normalized_data = train_data[\"Ticket\"].add()\n",
    "\n",
    "train_data.drop(drop_cols, axis=1, inplace=True)\n",
    "\n",
    "# Fill in missing values\n",
    "train_data[\"Embarked\"] = train_data[\"Embarked\"].fillna(train_data[\"Embarked\"].mode(), inplace=False)\n",
    "gender_data = train_data.groupby(\"Sex\")[\"Age\"].mean()\n",
    "train_data[\"Age\"] = train_data.apply((lambda row: row[\"Age\"] if not pd.isnull(row[\"Age\"]) else gender_data[row[\"Sex\"]]), axis=1)\n",
    "\n",
    "# Normalize Data: Age, Fare\n",
    "age_col = train_data[\"Age\"]\n",
    "train_data[\"Age\"] = (age_col - age_col.min()) / (age_col.max() - age_col.min())\n",
    "fare_col = train_data[\"Fare\"]\n",
    "train_data[\"Fare\"] = (fare_col - fare_col.min()) / (fare_col.max() - fare_col.min())\n",
    "\n",
    "# Standardize Data: Parch, SibSp\n",
    "parch_col = train_data[\"Parch\"]\n",
    "train_data[\"Parch\"] = (parch_col - parch_col.mean()) / parch_col.std()\n",
    "sibsp_col = train_data[\"SibSp\"]\n",
    "train_data[\"SibSp\"] = (sibsp_col - sibsp_col.mean()) / sibsp_col.std()\n",
    "\n",
    "# Remove Survived Data\n",
    "Y = train_data[\"Survived\"]\n",
    "train_data.drop([\"Survived\"], axis=1, inplace=True)\n",
    "\n",
    "# Make Indicator Values for Categorical Data\n",
    "train_data[\"Sex\"].replace({\"male\": False, \"female\": True}, inplace=True)\n",
    "dummy_cols = [\"Pclass\", \"Sex\", \"Embarked\"]\n",
    "X = pd.get_dummies(train_data, columns=dummy_cols)\n",
    "\n",
    "X_train, X_test, Y_train, Y_test = train_test_split(X, Y, test_size=0.2, random_state=0)\n",
    "# sr = pd.Series([1, 2, 10, 5, 2,34, 5])\n",
    "# train_data.plot(subplots=True)\n",
    "# train_data.hist(bins=20)\n",
    "# train_data[\"SibSp\"].describe()"
   ]
  },
  {
   "cell_type": "markdown",
   "metadata": {},
   "source": [
    "### Hyperparameter Testing\n",
    "Applying 5-Fold Grid Search Cross-Validation to each of the three types of models."
   ]
  },
  {
   "cell_type": "code",
   "execution_count": 40,
   "metadata": {},
   "outputs": [
    {
     "data": {
      "text/plain": [
       "0.7988826815642458"
      ]
     },
     "execution_count": 40,
     "metadata": {},
     "output_type": "execute_result"
    }
   ],
   "source": [
    "from sklearn import svm\n",
    "\n",
    "## Kernel, Regularization Parameter, and Degree (for Polynomial Kernel)\n",
    "# [best value], # [attempted values]\n",
    "hyperparams_svm = {\n",
    "    \"kernel\": [\"poly\"], # [\"linear\", \"rbf\", \"sigmoid\", \"poly\"],\n",
    "    \"C\": [100], # [0.01, 0.1, 1, 10, 100],\n",
    "    \"degree\": [4] # [2, 3, 4, 5, 6]\n",
    "}\n",
    "\n",
    "svm_clf = svm.SVC(random_state=0)\n",
    "gscv_svm = GridSearchCV(svm_clf, hyperparams_svm, verbose=0)\n",
    "gscv_svm.fit(X_train, Y_train)\n",
    "\n",
    "accuracy_score(Y_test, gscv_svm.predict(X_test))"
   ]
  },
  {
   "cell_type": "code",
   "execution_count": 41,
   "metadata": {},
   "outputs": [
    {
     "name": "stdout",
     "output_type": "stream",
     "text": [
      "Fitting 5 folds for each of 1 candidates, totalling 5 fits\n"
     ]
    },
    {
     "data": {
      "text/plain": [
       "0.8212290502793296"
      ]
     },
     "execution_count": 41,
     "metadata": {},
     "output_type": "execute_result"
    }
   ],
   "source": [
    "from sklearn.neural_network import MLPClassifier\n",
    "\n",
    "## Activation Function, Solver, Sizes of Hideen Layers, Regularization Parameter\n",
    "# [best value], # [attempted values]\n",
    "hyperparams_mlp = {\n",
    "          \"activation\" : [\"relu\"], # [\"logistic\", \"relu\", \"tanh\"],\n",
    "           # \"solver\" : [\"lbfgs\", \"sgd\", \"adam\"],\n",
    "           \"hidden_layer_sizes\" : [(6, 6, 6)], # [(8,8,8), (6, 6, 6), (6, 6), (4, 4, 4), (4, 4), (12, 12, 12), (12, 12), (12,), (6,), (2,), (5,), (10,), (32,), (32, 32), (50, 50)],\n",
    "           \"alpha\" : [1e-5] # [1e-5, 1e-4, 1e-3, 1e-2, 1e-1] \n",
    "         }\n",
    "\n",
    "mlp_clf = MLPClassifier(random_state=0, max_iter=1000)\n",
    "gscv_mlp = GridSearchCV(mlp_clf, hyperparams_mlp, verbose=1)\n",
    "gscv_mlp.fit(X_train, Y_train)\n",
    "\n",
    "accuracy_score(Y_test, gscv_mlp.predict(X_test))"
   ]
  },
  {
   "cell_type": "code",
   "execution_count": 42,
   "metadata": {},
   "outputs": [
    {
     "name": "stdout",
     "output_type": "stream",
     "text": [
      "Fitting 5 folds for each of 1 candidates, totalling 5 fits\n"
     ]
    },
    {
     "data": {
      "text/plain": [
       "0.8268156424581006"
      ]
     },
     "execution_count": 42,
     "metadata": {},
     "output_type": "execute_result"
    }
   ],
   "source": [
    "from sklearn.ensemble import RandomForestClassifier\n",
    "\n",
    "## Number of Trees, Max Depth\n",
    "# [best value], # [attempted values]\n",
    "hyperparams = {\n",
    "    \"n_estimators\": [1000], # [100, 500, 1000, 2000, 5000, 10000],\n",
    "    \"max_depth\": [5] # [5, 10, 15, 20, 25, 30, 35, 40, 45, 50]\n",
    "}\n",
    "\n",
    "rfc = RandomForestClassifier(random_state=0)\n",
    "gscv_rfc = GridSearchCV(rfc, hyperparams, verbose=1, scoring=\"recall\")\n",
    "gscv_rfc.fit(X_train, Y_train)\n",
    "\n",
    "accuracy_score(Y_test, gscv_rfc.predict(X_test))"
   ]
  },
  {
   "cell_type": "markdown",
   "metadata": {},
   "source": [
    "## Accuracy Metrics and Confusion Matrices\n",
    "The following blocks show the accuracies of the models and the confusion matrices to show actual vs. predicted values"
   ]
  },
  {
   "cell_type": "code",
   "execution_count": 43,
   "metadata": {},
   "outputs": [
    {
     "name": "stdout",
     "output_type": "stream",
     "text": [
      "Accuracy:  0.7988826815642458\n"
     ]
    },
    {
     "data": {
      "image/png": "[encoded data removed]",
      "text/plain": [
       "<Figure size 640x480 with 1 Axes>"
      ]
     },
     "metadata": {},
     "output_type": "display_data"
    }
   ],
   "source": [
    "acc = gscv_svm.score(X_test, Y_test)\n",
    "print(\"Accuracy: \", acc)\n",
    "cm = confusion_matrix(Y_test, gscv_svm.predict(X_test))\n",
    "\n",
    "sns.heatmap(cm, annot=True, cmap=\"Blues\", cbar=False)\n",
    "plt.xlabel(\"Predicted\")\n",
    "plt.ylabel(\"Actual\")\n",
    "plt.title(\"SVM Confusion Matrix\")\n",
    "plt.savefig(\"metrics/svm_confusion_matrix.png\") \n",
    "plt.show()\n",
    "# Pulled from https://medium.com/@dtuk81/confusion-matrix-visualization-fc31e3f30fea"
   ]
  },
  {
   "cell_type": "code",
   "execution_count": 44,
   "metadata": {},
   "outputs": [
    {
     "name": "stdout",
     "output_type": "stream",
     "text": [
      "Accuracy:  0.8212290502793296\n"
     ]
    },
    {
     "data": {
      "image/png": "[encoded data removed]",
      "text/plain": [
       "<Figure size 640x480 with 1 Axes>"
      ]
     },
     "metadata": {},
     "output_type": "display_data"
    }
   ],
   "source": [
    "acc = gscv_mlp.score(X_test, Y_test)\n",
    "print(\"Accuracy: \", acc)\n",
    "cm = confusion_matrix(Y_test, gscv_mlp.predict(X_test))\n",
    "\n",
    "sns.heatmap(cm, annot=True, fmt=\"d\", cmap=\"Blues\", cbar=False)\n",
    "plt.xlabel(\"Predicted\")\n",
    "plt.ylabel(\"Actual\")\n",
    "plt.title(\"MLP Confusion Matrix\")\n",
    "plt.savefig(\"metrics/mlp_confusion_matrix.png\")\n",
    "plt.show()\n",
    "# Pulled from https://medium.com/@dtuk81/confusion-matrix-visualization-fc31e3f30fea"
   ]
  },
  {
   "cell_type": "code",
   "execution_count": 45,
   "metadata": {},
   "outputs": [
    {
     "name": "stdout",
     "output_type": "stream",
     "text": [
      "Accuracy:  0.6811594202898551\n"
     ]
    },
    {
     "data": {
      "image/png": "[encoded data removed]",
      "text/plain": [
       "<Figure size 640x480 with 1 Axes>"
      ]
     },
     "metadata": {},
     "output_type": "display_data"
    }
   ],
   "source": [
    "acc = gscv_rfc.score(X_test, Y_test)\n",
    "print(\"Accuracy: \", acc)\n",
    "cm = confusion_matrix(Y_test, gscv_rfc.predict(X_test))\n",
    "\n",
    "sns.heatmap(cm, annot=True, fmt=\"d\", cmap=\"Blues\", cbar=False)\n",
    "plt.xlabel(\"Predicted\")\n",
    "plt.ylabel(\"Actual\")\n",
    "plt.title(\"RFC Confusion Matrix\")\n",
    "plt.savefig(\"metrics/rfc_confusion_matrix.png\")\n",
    "plt.show()\n",
    "# Pulled from https://medium.com/@dtuk81/confusion-matrix-visualization-fc31e3f30fea"
   ]
  },
  {
   "cell_type": "markdown",
   "metadata": {},
   "source": [
    "## Fitting all training data using best hyperparameters from cross validation\n",
    "Displaying only the accuracy of the model"
   ]
  },
  {
   "cell_type": "markdown",
   "metadata": {},
   "source": [
    "### SVM"
   ]
  },
  {
   "cell_type": "code",
   "execution_count": 46,
   "metadata": {},
   "outputs": [
    {
     "data": {
      "text/plain": [
       "0.8715083798882681"
      ]
     },
     "execution_count": 46,
     "metadata": {},
     "output_type": "execute_result"
    }
   ],
   "source": [
    "model_svm_params = gscv_svm.best_params_\n",
    "model_svm = svm.SVC(**model_svm_params, random_state=0)\n",
    "model_svm.fit(X, Y)\n",
    "accuracy_score(Y_test, model_svm.predict(X_test))"
   ]
  },
  {
   "cell_type": "markdown",
   "metadata": {},
   "source": [
    "### MLP"
   ]
  },
  {
   "cell_type": "code",
   "execution_count": 47,
   "metadata": {},
   "outputs": [
    {
     "data": {
      "text/plain": [
       "0.8268156424581006"
      ]
     },
     "execution_count": 47,
     "metadata": {},
     "output_type": "execute_result"
    }
   ],
   "source": [
    "# Multi-Layer Perceptron Model\n",
    "model_mlp_params = gscv_mlp.best_params_\n",
    "model_mlp = MLPClassifier(**model_mlp_params, random_state=0, max_iter=1000)\n",
    "model_mlp.fit(X, Y)\n",
    "accuracy_score(Y_test, model_mlp.predict(X_test))"
   ]
  },
  {
   "cell_type": "markdown",
   "metadata": {},
   "source": [
    "### Random Forest"
   ]
  },
  {
   "cell_type": "code",
   "execution_count": 48,
   "metadata": {},
   "outputs": [
    {
     "data": {
      "text/plain": [
       "0.8547486033519553"
      ]
     },
     "execution_count": 48,
     "metadata": {},
     "output_type": "execute_result"
    }
   ],
   "source": [
    "model_rfc_params = gscv_rfc.best_params_\n",
    "model_rfc = RandomForestClassifier(**model_rfc_params, random_state=0)\n",
    "model_rfc.fit(X, Y)\n",
    "accuracy_score(Y_test, model_rfc.predict(X_test))"
   ]
  },
  {
   "cell_type": "code",
   "execution_count": null,
   "metadata": {},
   "outputs": [],
   "source": []
  },
  {
   "cell_type": "markdown",
   "metadata": {},
   "source": [
    "## Fitting the Test Data\n",
    "Performing the same data pre-processing to the test data, with the addition that the missing values of Fare are filled in with the average fare cost"
   ]
  },
  {
   "cell_type": "code",
   "execution_count": 49,
   "metadata": {},
   "outputs": [],
   "source": [
    "## Data Cleanup\n",
    "# Remove columns that are not useful\n",
    "test_data = pd.read_csv('test.csv')\n",
    "\n",
    "passid_cols = test_data.PassengerId\n",
    "drop_cols = [\"PassengerId\", \"Name\", \"Ticket\", \"Cabin\"]\n",
    "test_data.drop(drop_cols, axis=1, inplace=True)\n",
    "\n",
    "# Fill in missing values\n",
    "test_data[\"Embarked\"] = test_data[\"Embarked\"].fillna(test_data[\"Embarked\"].mode(), inplace=False)\n",
    "gender_data = test_data.groupby(\"Sex\")[\"Age\"].mean()\n",
    "test_data[\"Age\"] = test_data.apply((lambda row: row[\"Age\"] if not pd.isnull(row[\"Age\"]) else gender_data[row[\"Sex\"]]), axis=1)\n",
    "test_data[\"Fare\"] = test_data[\"Fare\"].fillna(test_data[\"Fare\"].mean(), inplace=False)\n",
    "\n",
    "\n",
    "# Normalize Data: Age, Fare\n",
    "age_col = test_data[\"Age\"]\n",
    "test_data[\"Age\"] = (age_col - age_col.min()) / (age_col.max() - age_col.min())\n",
    "fare_col = test_data[\"Fare\"]\n",
    "test_data[\"Fare\"] = (fare_col - fare_col.min()) / (fare_col.max() - fare_col.min())\n",
    "\n",
    "\n",
    "# Standardize Data: Parch, SibSp\n",
    "parch_col = test_data[\"Parch\"]\n",
    "test_data[\"Parch\"] = (parch_col - parch_col.mean()) / parch_col.std()\n",
    "sibsp_col = test_data[\"SibSp\"]\n",
    "test_data[\"SibSp\"] = (sibsp_col - sibsp_col.mean()) / sibsp_col.std()\n",
    "\n",
    "# Make Indicator Values for Categorical Data\n",
    "test_data[\"Sex\"].replace({\"male\": False, \"female\": True}, inplace=True)\n",
    "dummy_cols = [\"Pclass\", \"Sex\", \"Embarked\"]\n",
    "X_testing = pd.get_dummies(test_data, columns=dummy_cols)"
   ]
  },
  {
   "cell_type": "code",
   "execution_count": 52,
   "metadata": {},
   "outputs": [],
   "source": [
    "models = [model_svm, model_mlp, model_rfc]\n",
    "model_names = [\"SVM\", \"MLP\", \"RFC\"]\n",
    "\n",
    "for model, name in zip(models, model_names):\n",
    "    predictions = model.predict(X_testing)\n",
    "    output = pd.DataFrame({'PassengerId': passid_cols, 'Survived': predictions})\n",
    "    output.to_csv(f'results/{name}_submission.csv', index=False)\n",
    "\n"
   ]
  }
 ],
 "metadata": {
  "kernelspec": {
   "display_name": "py312",
   "language": "python",
   "name": "python3"
  },
  "language_info": {
   "codemirror_mode": {
    "name": "ipython",
    "version": 3
   },
   "file_extension": ".py",
   "mimetype": "text/x-python",
   "name": "python",
   "nbconvert_exporter": "python",
   "pygments_lexer": "ipython3",
   "version": "3.11.5"
  }
 },
 "nbformat": 4,
 "nbformat_minor": 2
}
